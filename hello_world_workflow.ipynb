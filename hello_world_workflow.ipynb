{
 "cells": [
  {
   "cell_type": "markdown",
   "metadata": {},
   "source": [
    "# AWS Step Functions Data Science SDK - Hello World\n",
    "1. [Introduction](#Introduction)\n",
    "1. [Setup](#Setup)\n",
    "1. [Create steps for your workflow](#Create-steps-for-your-workflow)\n",
    "1. [Define the workflow instance](#Define-the-workflow-instance)\n",
    "1. [Review the Amazon States Language code for your workflow](#Review-the-Amazon-States-Language-code-for-your-workflow)\n",
    "1. [Create the workflow on AWS Step Functions](#Create-the-workflow-on-AWS-Step-Functions)\n",
    "1. [Execute the workflow](#Execute-the-workflow)\n",
    "1. [Review the execution progress](#Review-the-execution-progress)\n",
    "1. [Review the execution history](#Review-the-execution-history)\n"
   ]
  },
  {
   "cell_type": "markdown",
   "metadata": {},
   "source": [
    "## Introduction\n",
    "\n",
    "This notebook describes using the AWS Step Functions Data Science SDK to create and manage workflows. The Step Functions SDK is an open source library that allows data scientists to easily create and execute machine learning workflows using AWS Step Functions and Amazon SageMaker. For more information, see the following.\n",
    "* [AWS Step Functions](https://aws.amazon.com/step-functions/)\n",
    "* [AWS Step Functions Developer Guide](https://docs.aws.amazon.com/step-functions/latest/dg/welcome.html)\n",
    "* [AWS Step Functions Data Science SDK](https://aws-step-functions-data-science-sdk.readthedocs.io)\n",
    "\n",
    "In this notebook we will use the SDK to create steps, link them together to create a workflow, and execute the workflow in AWS Step Functions. "
   ]
  },
  {
   "cell_type": "code",
   "execution_count": 12,
   "metadata": {
    "scrolled": true
   },
   "outputs": [
    {
     "name": "stdout",
     "output_type": "stream",
     "text": [
      "Looking in indexes: https://pypi.org/simple, https://pip.repos.neuron.amazonaws.com\n",
      "Requirement already satisfied: stepfunctions in /home/ec2-user/anaconda3/envs/amazonei_mxnet_p36/lib/python3.6/site-packages (2.3.0)\n",
      "Requirement already satisfied: pyyaml in /home/ec2-user/anaconda3/envs/amazonei_mxnet_p36/lib/python3.6/site-packages (from stepfunctions) (5.4.1)\n",
      "Requirement already satisfied: sagemaker>=2.1.0 in /home/ec2-user/anaconda3/envs/amazonei_mxnet_p36/lib/python3.6/site-packages (from stepfunctions) (2.107.0)\n",
      "Requirement already satisfied: boto3>=1.14.38 in /home/ec2-user/anaconda3/envs/amazonei_mxnet_p36/lib/python3.6/site-packages (from stepfunctions) (1.23.10)\n",
      "Requirement already satisfied: jmespath<2.0.0,>=0.7.1 in /home/ec2-user/anaconda3/envs/amazonei_mxnet_p36/lib/python3.6/site-packages (from boto3>=1.14.38->stepfunctions) (0.10.0)\n",
      "Requirement already satisfied: botocore<1.27.0,>=1.26.10 in /home/ec2-user/anaconda3/envs/amazonei_mxnet_p36/lib/python3.6/site-packages (from boto3>=1.14.38->stepfunctions) (1.26.10)\n",
      "Requirement already satisfied: s3transfer<0.6.0,>=0.5.0 in /home/ec2-user/anaconda3/envs/amazonei_mxnet_p36/lib/python3.6/site-packages (from boto3>=1.14.38->stepfunctions) (0.5.2)\n",
      "Requirement already satisfied: pathos in /home/ec2-user/anaconda3/envs/amazonei_mxnet_p36/lib/python3.6/site-packages (from sagemaker>=2.1.0->stepfunctions) (0.2.8)\n",
      "Requirement already satisfied: smdebug-rulesconfig==1.0.1 in /home/ec2-user/anaconda3/envs/amazonei_mxnet_p36/lib/python3.6/site-packages (from sagemaker>=2.1.0->stepfunctions) (1.0.1)\n",
      "Requirement already satisfied: importlib-metadata<5.0,>=1.4.0 in /home/ec2-user/anaconda3/envs/amazonei_mxnet_p36/lib/python3.6/site-packages (from sagemaker>=2.1.0->stepfunctions) (3.6.0)\n",
      "Requirement already satisfied: packaging>=20.0 in /home/ec2-user/anaconda3/envs/amazonei_mxnet_p36/lib/python3.6/site-packages (from sagemaker>=2.1.0->stepfunctions) (21.3)\n",
      "Requirement already satisfied: attrs<22,>=20.3.0 in /home/ec2-user/anaconda3/envs/amazonei_mxnet_p36/lib/python3.6/site-packages (from sagemaker>=2.1.0->stepfunctions) (20.3.0)\n",
      "Requirement already satisfied: protobuf3-to-dict<1.0,>=0.1.5 in /home/ec2-user/anaconda3/envs/amazonei_mxnet_p36/lib/python3.6/site-packages (from sagemaker>=2.1.0->stepfunctions) (0.1.5)\n",
      "Requirement already satisfied: numpy<2.0,>=1.9.0 in /home/ec2-user/anaconda3/envs/amazonei_mxnet_p36/lib/python3.6/site-packages (from sagemaker>=2.1.0->stepfunctions) (1.19.5)\n",
      "Requirement already satisfied: pandas in /home/ec2-user/anaconda3/envs/amazonei_mxnet_p36/lib/python3.6/site-packages (from sagemaker>=2.1.0->stepfunctions) (1.1.5)\n",
      "Requirement already satisfied: protobuf<4.0,>=3.1 in /home/ec2-user/anaconda3/envs/amazonei_mxnet_p36/lib/python3.6/site-packages (from sagemaker>=2.1.0->stepfunctions) (3.15.1)\n",
      "Requirement already satisfied: google-pasta in /home/ec2-user/anaconda3/envs/amazonei_mxnet_p36/lib/python3.6/site-packages (from sagemaker>=2.1.0->stepfunctions) (0.2.0)\n",
      "Requirement already satisfied: urllib3<1.27,>=1.25.4 in /home/ec2-user/anaconda3/envs/amazonei_mxnet_p36/lib/python3.6/site-packages (from botocore<1.27.0,>=1.26.10->boto3>=1.14.38->stepfunctions) (1.26.8)\n",
      "Requirement already satisfied: python-dateutil<3.0.0,>=2.1 in /home/ec2-user/anaconda3/envs/amazonei_mxnet_p36/lib/python3.6/site-packages (from botocore<1.27.0,>=1.26.10->boto3>=1.14.38->stepfunctions) (2.8.1)\n",
      "Requirement already satisfied: typing-extensions>=3.6.4 in /home/ec2-user/anaconda3/envs/amazonei_mxnet_p36/lib/python3.6/site-packages (from importlib-metadata<5.0,>=1.4.0->sagemaker>=2.1.0->stepfunctions) (4.1.1)\n",
      "Requirement already satisfied: zipp>=0.5 in /home/ec2-user/anaconda3/envs/amazonei_mxnet_p36/lib/python3.6/site-packages (from importlib-metadata<5.0,>=1.4.0->sagemaker>=2.1.0->stepfunctions) (3.4.0)\n",
      "Requirement already satisfied: pyparsing!=3.0.5,>=2.0.2 in /home/ec2-user/anaconda3/envs/amazonei_mxnet_p36/lib/python3.6/site-packages (from packaging>=20.0->sagemaker>=2.1.0->stepfunctions) (2.4.7)\n",
      "Requirement already satisfied: six>=1.9 in /home/ec2-user/anaconda3/envs/amazonei_mxnet_p36/lib/python3.6/site-packages (from protobuf<4.0,>=3.1->sagemaker>=2.1.0->stepfunctions) (1.15.0)\n",
      "Requirement already satisfied: pytz>=2017.2 in /home/ec2-user/anaconda3/envs/amazonei_mxnet_p36/lib/python3.6/site-packages (from pandas->sagemaker>=2.1.0->stepfunctions) (2021.1)\n",
      "Requirement already satisfied: multiprocess>=0.70.12 in /home/ec2-user/anaconda3/envs/amazonei_mxnet_p36/lib/python3.6/site-packages (from pathos->sagemaker>=2.1.0->stepfunctions) (0.70.12.2)\n",
      "Requirement already satisfied: pox>=0.3.0 in /home/ec2-user/anaconda3/envs/amazonei_mxnet_p36/lib/python3.6/site-packages (from pathos->sagemaker>=2.1.0->stepfunctions) (0.3.0)\n",
      "Requirement already satisfied: ppft>=1.6.6.4 in /home/ec2-user/anaconda3/envs/amazonei_mxnet_p36/lib/python3.6/site-packages (from pathos->sagemaker>=2.1.0->stepfunctions) (1.6.6.4)\n",
      "Requirement already satisfied: dill>=0.3.4 in /home/ec2-user/anaconda3/envs/amazonei_mxnet_p36/lib/python3.6/site-packages (from pathos->sagemaker>=2.1.0->stepfunctions) (0.3.4)\n"
     ]
    }
   ],
   "source": [
    "import sys\n",
    "\n",
    "!{sys.executable} -m pip install --upgrade stepfunctions"
   ]
  },
  {
   "cell_type": "markdown",
   "metadata": {},
   "source": [
    "## Setup\n",
    "\n",
    "### Add a policy to your SageMaker role in IAM\n",
    "\n",
    "**If you are running this notebook on an Amazon SageMaker notebook instance**, the IAM role assumed by your notebook instance needs permission to create and run workflows in AWS Step Functions. To provide this permission to the role, do the following.\n",
    "\n",
    "1. Open the Amazon [SageMaker console](https://console.aws.amazon.com/sagemaker/). \n",
    "2. Select **Notebook instances** and choose the name of your notebook instance\n",
    "3. Under **Permissions and encryption** select the role ARN to view the role on the IAM console\n",
    "4. Choose **Attach policies** and search for `AWSStepFunctionsFullAccess`.\n",
    "5. Select the check box next to `AWSStepFunctionsFullAccess` and choose **Attach policy**\n",
    "\n",
    "If you are running this notebook in a local environment, the SDK will use your configured AWS CLI configuration. For more information, see [Configuring the AWS CLI](https://docs.aws.amazon.com/cli/latest/userguide/cli-chap-configure.html).\n",
    "\n",
    "Next, create an execution role in IAM for Step Functions. \n",
    "\n",
    "### Create an execution role for Step Functions\n",
    "\n",
    "You need an execution role so that you can create and execute workflows in Step Functions.\n",
    "\n",
    "1. Go to the [IAM console](https://console.aws.amazon.com/iam/)\n",
    "2. Select **Roles** and then **Create role**.\n",
    "3. Under **Choose the service that will use this role** select **Step Functions**\n",
    "4. Choose **Next** until you can enter a **Role name**\n",
    "5. Enter a name such as `AmazonSageMaker-StepFunctionsWorkflowExecutionRole` and then select **Create role**\n",
    "\n",
    "\n",
    "Attach a policy to the role you created. The following steps attach a policy that provides full access to Step Functions, however as a good practice you should only provide access to the resources you need.  \n",
    "\n",
    "1. Under the **Permissions** tab, click **Add inline policy**\n",
    "2. Enter the following in the **JSON** tab\n",
    "\n",
    "```json\n",
    "{\n",
    "    \"Version\": \"2012-10-17\",\n",
    "    \"Statement\": [\n",
    "        {\n",
    "            \"Effect\": \"Allow\",\n",
    "            \"Action\": [\n",
    "                \"sagemaker:CreateTransformJob\",\n",
    "                \"sagemaker:DescribeTransformJob\",\n",
    "                \"sagemaker:StopTransformJob\",\n",
    "                \"sagemaker:CreateTrainingJob\",\n",
    "                \"sagemaker:DescribeTrainingJob\",\n",
    "                \"sagemaker:StopTrainingJob\",\n",
    "                \"sagemaker:CreateHyperParameterTuningJob\",\n",
    "                \"sagemaker:DescribeHyperParameterTuningJob\",\n",
    "                \"sagemaker:StopHyperParameterTuningJob\",\n",
    "                \"sagemaker:CreateModel\",\n",
    "                \"sagemaker:CreateEndpointConfig\",\n",
    "                \"sagemaker:CreateEndpoint\",\n",
    "                \"sagemaker:DeleteEndpointConfig\",\n",
    "                \"sagemaker:DeleteEndpoint\",\n",
    "                \"sagemaker:UpdateEndpoint\",\n",
    "                \"sagemaker:ListTags\",\n",
    "                \"lambda:InvokeFunction\",\n",
    "                \"sqs:SendMessage\",\n",
    "                \"sns:Publish\",\n",
    "                \"ecs:RunTask\",\n",
    "                \"ecs:StopTask\",\n",
    "                \"ecs:DescribeTasks\",\n",
    "                \"dynamodb:GetItem\",\n",
    "                \"dynamodb:PutItem\",\n",
    "                \"dynamodb:UpdateItem\",\n",
    "                \"dynamodb:DeleteItem\",\n",
    "                \"batch:SubmitJob\",\n",
    "                \"batch:DescribeJobs\",\n",
    "                \"batch:TerminateJob\",\n",
    "                \"glue:StartJobRun\",\n",
    "                \"glue:GetJobRun\",\n",
    "                \"glue:GetJobRuns\",\n",
    "                \"glue:BatchStopJobRun\"\n",
    "            ],\n",
    "            \"Resource\": \"*\"\n",
    "        },\n",
    "        {\n",
    "            \"Effect\": \"Allow\",\n",
    "            \"Action\": [\n",
    "                \"iam:PassRole\"\n",
    "            ],\n",
    "            \"Resource\": \"*\",\n",
    "            \"Condition\": {\n",
    "                \"StringEquals\": {\n",
    "                    \"iam:PassedToService\": \"sagemaker.amazonaws.com\"\n",
    "                }\n",
    "            }\n",
    "        },\n",
    "        {\n",
    "            \"Effect\": \"Allow\",\n",
    "            \"Action\": [\n",
    "                \"events:PutTargets\",\n",
    "                \"events:PutRule\",\n",
    "                \"events:DescribeRule\"\n",
    "            ],\n",
    "            \"Resource\": [\n",
    "                \"arn:aws:events:*:*:rule/StepFunctionsGetEventsForSageMakerTrainingJobsRule\",\n",
    "                \"arn:aws:events:*:*:rule/StepFunctionsGetEventsForSageMakerTransformJobsRule\",\n",
    "                \"arn:aws:events:*:*:rule/StepFunctionsGetEventsForSageMakerTuningJobsRule\",\n",
    "                \"arn:aws:events:*:*:rule/StepFunctionsGetEventsForECSTaskRule\",\n",
    "                \"arn:aws:events:*:*:rule/StepFunctionsGetEventsForBatchJobsRule\"\n",
    "            ]\n",
    "        }\n",
    "    ]\n",
    "}\n",
    "```\n",
    "\n",
    "3. Choose **Review policy** and give the policy a name such as `StepFunctionsWorkflowExecutionPolicy`\n",
    "4. Choose **Create policy**. You will be redirected to the details page for the role.\n",
    "5. Copy the **Role ARN** at the top of the **Summary**\n",
    "\n",
    "### Import the required modules from the SDK"
   ]
  },
  {
   "cell_type": "code",
   "execution_count": 33,
   "metadata": {},
   "outputs": [],
   "source": [
    "import stepfunctions\n",
    "import logging\n",
    "\n",
    "from stepfunctions.steps import *\n",
    "from stepfunctions.workflow import Workflow\n",
    "\n",
    "stepfunctions.set_stream_logger(level=logging.INFO)\n",
    "\n",
    "workflow_execution_role = \"arn:aws:iam::456668253361:role/AmazonSageMaker-StepFunctionsWorkflowExecutionRole\"  # paste the AmazonSageMaker-StepFunctionsWorkflowExecutionRole ARN from above"
   ]
  },
  {
   "cell_type": "markdown",
   "metadata": {},
   "source": [
    "## Create basic workflow\n",
    "\n",
    "In the following cell, you will define the step that you will use in our first workflow.  Then you will create, visualize and execute the workflow. \n",
    "\n",
    "Steps relate to states in AWS Step Functions. For more information, see [States](https://docs.aws.amazon.com/step-functions/latest/dg/concepts-states.html) in the *AWS Step Functions Developer Guide*. For more information on the AWS Step Functions Data Science SDK APIs, see: https://aws-step-functions-data-science-sdk.readthedocs.io. \n"
   ]
  },
  {
   "cell_type": "markdown",
   "metadata": {},
   "source": [
    "### Pass state\n",
    "\n",
    "A `Pass` state in Step Functions simply passes its input to its output, without performing work. See [Pass](https://aws-step-functions-data-science-sdk.readthedocs.io/en/latest/states.html#stepfunctions.steps.states.Pass) in the AWS Step Functions Data Science SDK documentation.\n"
   ]
  },
  {
   "cell_type": "code",
   "execution_count": 34,
   "metadata": {},
   "outputs": [],
   "source": [
    "start_pass_state = Pass(state_id=\"MyPassState\")"
   ]
  },
  {
   "cell_type": "markdown",
   "metadata": {},
   "source": [
    "### Chain together steps for the basic path\n",
    "\n",
    "The following cell links together the steps you've created into a sequential group called `basic_path`. We will chain a single step to create our basic path. See [Chain](https://aws-step-functions-data-science-sdk.readthedocs.io/en/latest/states.html#stepfunctions.steps.states.Chain) in the AWS Step Functions Data Science SDK documentation.\n",
    "\n",
    "After chaining together the steps for the basic path, in this case only one step, we will visualize the basic path."
   ]
  },
  {
   "cell_type": "code",
   "execution_count": 35,
   "metadata": {},
   "outputs": [],
   "source": [
    "# First we chain the start pass state\n",
    "basic_path = Chain([start_pass_state])"
   ]
  },
  {
   "cell_type": "markdown",
   "metadata": {},
   "source": [
    "## Define the workflow instance\n",
    "\n",
    "The following cell defines the [workflow](https://aws-step-functions-data-science-sdk.readthedocs.io/en/latest/workflow.html#stepfunctions.workflow.Workflow) with the path we just defined.\n",
    "\n",
    "After defining the workflow, we will render the graph to see what our workflow looks like."
   ]
  },
  {
   "cell_type": "code",
   "execution_count": 36,
   "metadata": {},
   "outputs": [
    {
     "data": {
      "text/html": [
       "\n",
       "<link rel=\"stylesheet\" type=\"text/css\" href=\"https://do0of8uwbahzz.cloudfront.net/graph.css\">\n",
       "<div id=\"graph-282\" class=\"workflowgraph\">\n",
       "    \n",
       "    <svg></svg>\n",
       "    \n",
       "</div>\n",
       "\n",
       "<script type=\"text/javascript\">\n",
       "\n",
       "require.config({\n",
       "    paths: {\n",
       "        sfn: \"https://do0of8uwbahzz.cloudfront.net/sfn\",\n",
       "    }\n",
       "});\n",
       "\n",
       "require(['sfn'], function(sfn) {\n",
       "    var element = document.getElementById('graph-282')\n",
       "\n",
       "    var options = {\n",
       "        width: parseFloat(getComputedStyle(element, null).width.replace(\"px\", \"\")),\n",
       "        height: 600,\n",
       "        layout: 'LR',\n",
       "        resizeHeight: true\n",
       "    };\n",
       "\n",
       "    var definition = {\"StartAt\": \"MyPassState\", \"States\": {\"MyPassState\": {\"Type\": \"Pass\", \"End\": true}}};\n",
       "    var elementId = '#graph-282';\n",
       "\n",
       "    var graph = new sfn.StateMachineGraph(definition, elementId, options);\n",
       "    graph.render();\n",
       "});\n",
       "\n",
       "</script>\n"
      ],
      "text/plain": [
       "<IPython.core.display.HTML object>"
      ]
     },
     "execution_count": 36,
     "metadata": {},
     "output_type": "execute_result"
    }
   ],
   "source": [
    "# Next, we define the workflow\n",
    "basic_workflow = Workflow(\n",
    "    name=\"MyWorkflow_Simple\", definition=basic_path, role=workflow_execution_role\n",
    ")\n",
    "\n",
    "# Render the workflow\n",
    "basic_workflow.render_graph()"
   ]
  },
  {
   "cell_type": "markdown",
   "metadata": {},
   "source": [
    "## Review the Amazon States Language code for your workflow\n",
    "\n",
    "The following renders the JSON of the [Amazon States Language](https://docs.aws.amazon.com/step-functions/latest/dg/concepts-amazon-states-language.html) definition of the workflow you created. "
   ]
  },
  {
   "cell_type": "code",
   "execution_count": 37,
   "metadata": {},
   "outputs": [
    {
     "name": "stdout",
     "output_type": "stream",
     "text": [
      "{\n",
      "    \"StartAt\": \"MyPassState\",\n",
      "    \"States\": {\n",
      "        \"MyPassState\": {\n",
      "            \"Type\": \"Pass\",\n",
      "            \"End\": true\n",
      "        }\n",
      "    }\n",
      "}\n"
     ]
    }
   ],
   "source": [
    "print(basic_workflow.definition.to_json(pretty=True))"
   ]
  },
  {
   "cell_type": "markdown",
   "metadata": {},
   "source": [
    "## Create the workflow on AWS Step Functions\n",
    "\n",
    "Create the workflow in AWS Step Functions with [create](https://aws-step-functions-data-science-sdk.readthedocs.io/en/latest/workflow.html#stepfunctions.workflow.Workflow.create)."
   ]
  },
  {
   "cell_type": "code",
   "execution_count": 38,
   "metadata": {},
   "outputs": [
    {
     "name": "stdout",
     "output_type": "stream",
     "text": [
      "\u001b[32m[INFO] Workflow created successfully on AWS Step Functions.\u001b[0m\n"
     ]
    },
    {
     "data": {
      "text/plain": [
       "'arn:aws:states:us-east-1:456668253361:stateMachine:MyWorkflow_Simple'"
      ]
     },
     "execution_count": 38,
     "metadata": {},
     "output_type": "execute_result"
    }
   ],
   "source": [
    "basic_workflow.create()"
   ]
  },
  {
   "cell_type": "markdown",
   "metadata": {},
   "source": [
    "## Execute the workflow\n",
    "\n",
    "Run the workflow with [execute](https://aws-step-functions-data-science-sdk.readthedocs.io/en/latest/workflow.html#stepfunctions.workflow.Workflow.execute). Since the workflow only has a pass state, it will succeed immediately."
   ]
  },
  {
   "cell_type": "code",
   "execution_count": 39,
   "metadata": {},
   "outputs": [
    {
     "name": "stdout",
     "output_type": "stream",
     "text": [
      "\u001b[32m[INFO] Workflow execution started successfully on AWS Step Functions.\u001b[0m\n"
     ]
    }
   ],
   "source": [
    "basic_workflow_execution = basic_workflow.execute()"
   ]
  },
  {
   "cell_type": "markdown",
   "metadata": {},
   "source": [
    "## Review the execution progress\n",
    "\n",
    "Render workflow progress with the [render_progress](https://aws-step-functions-data-science-sdk.readthedocs.io/en/latest/workflow.html#stepfunctions.workflow.Execution.render_progress).\n",
    "\n",
    "This generates a snapshot of the current state of your workflow as it executes. This is a static image. Run the cell again to check progress. "
   ]
  },
  {
   "cell_type": "code",
   "execution_count": 40,
   "metadata": {},
   "outputs": [
    {
     "data": {
      "text/html": [
       "\n",
       "<link rel=\"stylesheet\" type=\"text/css\" href=\"https://do0of8uwbahzz.cloudfront.net/graph.css\">\n",
       "<div id=\"graph-754\" class=\"workflowgraph\">\n",
       "    \n",
       "    <style>\n",
       "        .graph-legend ul {\n",
       "            list-style-type: none;\n",
       "            padding: 10px;\n",
       "            padding-left: 0;\n",
       "            margin: 0;\n",
       "            position: absolute;\n",
       "            top: 0;\n",
       "            background: transparent;\n",
       "        }\n",
       "\n",
       "        .graph-legend li {\n",
       "            margin-left: 10px;\n",
       "            display: inline-block;\n",
       "        }\n",
       "\n",
       "        .graph-legend li > div {\n",
       "            width: 10px;\n",
       "            height: 10px;\n",
       "            display: inline-block;\n",
       "        }\n",
       "\n",
       "        .graph-legend .success { background-color: #2BD62E }\n",
       "        .graph-legend .failed { background-color: #DE322F }\n",
       "        .graph-legend .cancelled { background-color: #DDDDDD }\n",
       "        .graph-legend .in-progress { background-color: #53C9ED }\n",
       "        .graph-legend .caught-error { background-color: #FFA500 }\n",
       "    </style>\n",
       "    <div class=\"graph-legend\">\n",
       "        <ul>\n",
       "            <li>\n",
       "                <div class=\"success\"></div>\n",
       "                <span>Success</span>\n",
       "            </li>\n",
       "            <li>\n",
       "                <div class=\"failed\"></div>\n",
       "                <span>Failed</span>\n",
       "            </li>\n",
       "            <li>\n",
       "                <div class=\"cancelled\"></div>\n",
       "                <span>Cancelled</span>\n",
       "            </li>\n",
       "            <li>\n",
       "                <div class=\"in-progress\"></div>\n",
       "                <span>In Progress</span>\n",
       "            </li>\n",
       "            <li>\n",
       "                <div class=\"caught-error\"></div>\n",
       "                <span>Caught Error</span>\n",
       "            </li>\n",
       "        </ul>\n",
       "    </div>\n",
       "\n",
       "    <svg></svg>\n",
       "    <a href=\"https://console.aws.amazon.com/states/home?region=us-east-1#/executions/details/arn:aws:states:us-east-1:456668253361:execution:MyWorkflow_Simple:09786374-6457-4dd9-8b86-133bf209a4c5\" target=\"_blank\"> Inspect in AWS Step Functions </a>\n",
       "</div>\n",
       "\n",
       "<script type=\"text/javascript\">\n",
       "\n",
       "require.config({\n",
       "    paths: {\n",
       "        sfn: \"https://do0of8uwbahzz.cloudfront.net/sfn\",\n",
       "    }\n",
       "});\n",
       "\n",
       "require(['sfn'], function(sfn) {\n",
       "    var element = document.getElementById('graph-754')\n",
       "\n",
       "    var options = {\n",
       "        width: parseFloat(getComputedStyle(element, null).width.replace(\"px\", \"\")),\n",
       "        height: 1000,\n",
       "        layout: 'LR',\n",
       "        resizeHeight: true\n",
       "    };\n",
       "\n",
       "    var definition = {\"StartAt\": \"MyPassState\", \"States\": {\"MyPassState\": {\"Type\": \"Pass\", \"End\": true}}};\n",
       "    var elementId = '#graph-754';\n",
       "    var events = { 'events': [{\"timestamp\": 1662367383.805, \"type\": \"ExecutionStarted\", \"id\": 1, \"previousEventId\": 0, \"executionStartedEventDetails\": {\"input\": \"{}\", \"inputDetails\": {\"truncated\": false}, \"roleArn\": \"arn:aws:iam::456668253361:role/AmazonSageMaker-StepFunctionsWorkflowExecutionRole\"}}, {\"timestamp\": 1662367383.85, \"type\": \"PassStateEntered\", \"id\": 2, \"previousEventId\": 0, \"stateEnteredEventDetails\": {\"name\": \"MyPassState\", \"input\": \"{}\", \"inputDetails\": {\"truncated\": false}}}, {\"timestamp\": 1662367383.85, \"type\": \"PassStateExited\", \"id\": 3, \"previousEventId\": 2, \"stateExitedEventDetails\": {\"name\": \"MyPassState\", \"output\": \"{}\", \"outputDetails\": {\"truncated\": false}}}, {\"timestamp\": 1662367383.85, \"type\": \"ExecutionSucceeded\", \"id\": 4, \"previousEventId\": 3, \"executionSucceededEventDetails\": {\"output\": \"{}\", \"outputDetails\": {\"truncated\": false}}}] };\n",
       "\n",
       "    var graph = new sfn.StateMachineExecutionGraph(definition, events, elementId, options);\n",
       "    graph.render();\n",
       "});\n",
       "\n",
       "</script>\n"
      ],
      "text/plain": [
       "<IPython.core.display.HTML object>"
      ]
     },
     "execution_count": 40,
     "metadata": {},
     "output_type": "execute_result"
    }
   ],
   "source": [
    "basic_workflow_execution.render_progress()"
   ]
  },
  {
   "cell_type": "markdown",
   "metadata": {},
   "source": [
    "## Review the execution history\n",
    "\n",
    "Use [list_events](https://aws-step-functions-data-science-sdk.readthedocs.io/en/latest/workflow.html#stepfunctions.workflow.Execution.list_events) to list all events in the workflow execution."
   ]
  },
  {
   "cell_type": "code",
   "execution_count": 41,
   "metadata": {},
   "outputs": [
    {
     "data": {
      "text/plain": [
       "[{'timestamp': datetime.datetime(2022, 9, 5, 15, 43, 3, 805000, tzinfo=tzlocal()),\n",
       "  'type': 'ExecutionStarted',\n",
       "  'id': 1,\n",
       "  'previousEventId': 0,\n",
       "  'executionStartedEventDetails': {'input': '{}',\n",
       "   'inputDetails': {'truncated': False},\n",
       "   'roleArn': 'arn:aws:iam::456668253361:role/AmazonSageMaker-StepFunctionsWorkflowExecutionRole'}},\n",
       " {'timestamp': datetime.datetime(2022, 9, 5, 15, 43, 3, 850000, tzinfo=tzlocal()),\n",
       "  'type': 'PassStateEntered',\n",
       "  'id': 2,\n",
       "  'previousEventId': 0,\n",
       "  'stateEnteredEventDetails': {'name': 'MyPassState',\n",
       "   'input': '{}',\n",
       "   'inputDetails': {'truncated': False}}},\n",
       " {'timestamp': datetime.datetime(2022, 9, 5, 15, 43, 3, 850000, tzinfo=tzlocal()),\n",
       "  'type': 'PassStateExited',\n",
       "  'id': 3,\n",
       "  'previousEventId': 2,\n",
       "  'stateExitedEventDetails': {'name': 'MyPassState',\n",
       "   'output': '{}',\n",
       "   'outputDetails': {'truncated': False}}},\n",
       " {'timestamp': datetime.datetime(2022, 9, 5, 15, 43, 3, 850000, tzinfo=tzlocal()),\n",
       "  'type': 'ExecutionSucceeded',\n",
       "  'id': 4,\n",
       "  'previousEventId': 3,\n",
       "  'executionSucceededEventDetails': {'output': '{}',\n",
       "   'outputDetails': {'truncated': False}}}]"
      ]
     },
     "execution_count": 41,
     "metadata": {},
     "output_type": "execute_result"
    }
   ],
   "source": [
    "basic_workflow_execution.list_events(max_items=100, reverse_order=False, html=False)"
   ]
  },
  {
   "cell_type": "markdown",
   "metadata": {},
   "source": [
    "## Create additional steps for your workflow\n",
    "\n",
    "In the following cells, you will define additional steps that you will use in our workflows. Steps relate to states in AWS Step Functions. For more information, see [States](https://docs.aws.amazon.com/step-functions/latest/dg/concepts-states.html) in the *AWS Step Functions Developer Guide*. For more information on the AWS Step Functions Data Science SDK APIs, see: https://aws-step-functions-data-science-sdk.readthedocs.io. \n"
   ]
  },
  {
   "cell_type": "markdown",
   "metadata": {},
   "source": [
    "### Choice state\n",
    "\n",
    "A `Choice` state in Step Functions adds branching logic to your workflow. See [Choice](https://aws-step-functions-data-science-sdk.readthedocs.io/en/latest/states.html#stepfunctions.steps.states.Choice) in the AWS Step Functions Data Science SDK documentation."
   ]
  },
  {
   "cell_type": "code",
   "execution_count": 42,
   "metadata": {},
   "outputs": [],
   "source": [
    "choice_state = Choice(state_id=\"Is this Hello World example?\")"
   ]
  },
  {
   "cell_type": "markdown",
   "metadata": {},
   "source": [
    "First create the steps for the \"happy path\"."
   ]
  },
  {
   "cell_type": "markdown",
   "metadata": {},
   "source": [
    "### Wait state\n",
    "\n",
    "A `Wait` state in Step Functions waits a specific amount of time. See [Wait](https://aws-step-functions-data-science-sdk.readthedocs.io/en/latest/states.html#stepfunctions.steps.states.Wait) in the AWS Step Functions Data Science SDK documentation."
   ]
  },
  {
   "cell_type": "code",
   "execution_count": 43,
   "metadata": {},
   "outputs": [],
   "source": [
    "wait_state = Wait(state_id=\"Wait for 3 seconds\", seconds=3)"
   ]
  },
  {
   "cell_type": "markdown",
   "metadata": {},
   "source": [
    "### Parallel state\n",
    "\n",
    "A `Parallel` state in Step Functions is used to create parallel branches of execution in your workflow. This creates the `Parallel` step and adds two branches: `Hello` and `World`. See [Parallel](https://aws-step-functions-data-science-sdk.readthedocs.io/en/latest/states.html#stepfunctions.steps.states.Parallel) in the AWS Step Functions Data Science SDK documentation."
   ]
  },
  {
   "cell_type": "code",
   "execution_count": 44,
   "metadata": {},
   "outputs": [],
   "source": [
    "parallel_state = Parallel(\"MyParallelState\")\n",
    "parallel_state.add_branch(Pass(state_id=\"Hello\"))\n",
    "parallel_state.add_branch(Pass(state_id=\"World\"))"
   ]
  },
  {
   "cell_type": "markdown",
   "metadata": {},
   "source": [
    "### Lambda Task state\n",
    "\n",
    "A `Task` State in Step Functions represents a single unit of work performed by a workflow. Tasks can call Lambda functions and orchestrate other AWS services. See [AWS Service Integrations](https://docs.aws.amazon.com/step-functions/latest/dg/concepts-service-integrations.html) in the *AWS Step Functions Developer Guide*.\n",
    "\n",
    "#### Create a Lambda function\n",
    "\n",
    "The Lambda task state in this workflow uses a simple Lambda function **(Python 3.x)** that returns a base64 encoded string. Create the following function in the [Lambda console](https://console.aws.amazon.com/lambda/).\n",
    "\n",
    "```python\n",
    "import json\n",
    "import base64\n",
    " \n",
    "def lambda_handler(event, context):\n",
    "    return {\n",
    "        'statusCode': 200,\n",
    "        'input': event['input'],\n",
    "        'output': base64.b64encode(event['input'].encode()).decode('UTF-8')\n",
    "    }\n",
    "```"
   ]
  },
  {
   "cell_type": "markdown",
   "metadata": {},
   "source": [
    "#### Define the Lambda Task state\n",
    "\n",
    "The following creates a [LambdaStep](https://aws-step-functions-data-science-sdk.readthedocs.io/en/latest/compute.html#stepfunctions.steps.compute.LambdaStep) called `lambda_state`, and then configures the options to [Retry](https://docs.aws.amazon.com/step-functions/latest/dg/concepts-error-handling.html#error-handling-retrying-after-an-error) if the Lambda function fails."
   ]
  },
  {
   "cell_type": "code",
   "execution_count": 45,
   "metadata": {},
   "outputs": [],
   "source": [
    "lambda_state = LambdaStep(\n",
    "    state_id=\"Convert HelloWorld to Base64\",\n",
    "    parameters={\n",
    "        \"FunctionName\": \"step_function_lambda\",  # replace with the name of the function you created\n",
    "        \"Payload\": {\"input\": \"HelloWorld\"},\n",
    "    },\n",
    ")\n",
    "\n",
    "lambda_state.add_retry(\n",
    "    Retry(error_equals=[\"States.TaskFailed\"], interval_seconds=15, max_attempts=2, backoff_rate=4.0)\n",
    ")\n",
    "\n",
    "lambda_state.add_catch(\n",
    "    Catch(error_equals=[\"States.TaskFailed\"], next_step=Fail(\"LambdaTaskFailed\"))\n",
    ")"
   ]
  },
  {
   "cell_type": "markdown",
   "metadata": {},
   "source": [
    "### Succeed state\n",
    "\n",
    "A `Succeed` state in Step Functions stops an execution successfully. See [Succeed](https://aws-step-functions-data-science-sdk.readthedocs.io/en/latest/states.html#stepfunctions.steps.states.Succeed) in the AWS Step Functions Data Science SDK documentation."
   ]
  },
  {
   "cell_type": "code",
   "execution_count": 46,
   "metadata": {},
   "outputs": [],
   "source": [
    "succeed_state = Succeed(\"HelloWorldSuccessful\")"
   ]
  },
  {
   "cell_type": "markdown",
   "metadata": {},
   "source": [
    "### Chain together steps for the happy path\n",
    "\n",
    "The following cell links together the steps you've created above into a sequential group called `happy_path`. The new path sequentially includes the Wait state, the Parallel state, the Lambda state, and the Succeed state that you created earlier.\n",
    "\n",
    "After chaining together the steps for the happy path, we will define the workflow and visualize the happy path."
   ]
  },
  {
   "cell_type": "code",
   "execution_count": 47,
   "metadata": {},
   "outputs": [],
   "source": [
    "happy_path = Chain([wait_state, parallel_state, lambda_state, succeed_state])"
   ]
  },
  {
   "cell_type": "code",
   "execution_count": 48,
   "metadata": {},
   "outputs": [
    {
     "data": {
      "text/html": [
       "\n",
       "<link rel=\"stylesheet\" type=\"text/css\" href=\"https://do0of8uwbahzz.cloudfront.net/graph.css\">\n",
       "<div id=\"graph-766\" class=\"workflowgraph\">\n",
       "    \n",
       "    <svg></svg>\n",
       "    \n",
       "</div>\n",
       "\n",
       "<script type=\"text/javascript\">\n",
       "\n",
       "require.config({\n",
       "    paths: {\n",
       "        sfn: \"https://do0of8uwbahzz.cloudfront.net/sfn\",\n",
       "    }\n",
       "});\n",
       "\n",
       "require(['sfn'], function(sfn) {\n",
       "    var element = document.getElementById('graph-766')\n",
       "\n",
       "    var options = {\n",
       "        width: parseFloat(getComputedStyle(element, null).width.replace(\"px\", \"\")),\n",
       "        height: 600,\n",
       "        layout: 'LR',\n",
       "        resizeHeight: true\n",
       "    };\n",
       "\n",
       "    var definition = {\"StartAt\": \"Wait for 3 seconds\", \"States\": {\"Wait for 3 seconds\": {\"Seconds\": 3, \"Type\": \"Wait\", \"Next\": \"MyParallelState\"}, \"MyParallelState\": {\"Type\": \"Parallel\", \"Next\": \"Convert HelloWorld to Base64\", \"Branches\": [{\"StartAt\": \"Hello\", \"States\": {\"Hello\": {\"Type\": \"Pass\", \"End\": true}}}, {\"StartAt\": \"World\", \"States\": {\"World\": {\"Type\": \"Pass\", \"End\": true}}}]}, \"Convert HelloWorld to Base64\": {\"Parameters\": {\"FunctionName\": \"step_function_lambda\", \"Payload\": {\"input\": \"HelloWorld\"}}, \"Resource\": \"arn:aws:states:::lambda:invoke\", \"Type\": \"Task\", \"Next\": \"HelloWorldSuccessful\", \"Retry\": [{\"ErrorEquals\": [\"States.TaskFailed\"], \"IntervalSeconds\": 15, \"MaxAttempts\": 2, \"BackoffRate\": 4.0}], \"Catch\": [{\"ErrorEquals\": [\"States.TaskFailed\"], \"Next\": \"LambdaTaskFailed\"}]}, \"HelloWorldSuccessful\": {\"Type\": \"Succeed\"}, \"LambdaTaskFailed\": {\"Type\": \"Fail\"}}};\n",
       "    var elementId = '#graph-766';\n",
       "\n",
       "    var graph = new sfn.StateMachineGraph(definition, elementId, options);\n",
       "    graph.render();\n",
       "});\n",
       "\n",
       "</script>\n"
      ],
      "text/plain": [
       "<IPython.core.display.HTML object>"
      ]
     },
     "execution_count": 48,
     "metadata": {},
     "output_type": "execute_result"
    }
   ],
   "source": [
    "# Next, we define the workflow\n",
    "happy_workflow = Workflow(\n",
    "    name=\"MyWorkflow_Happy\", definition=happy_path, role=workflow_execution_role\n",
    ")\n",
    "\n",
    "happy_workflow.render_graph()"
   ]
  },
  {
   "cell_type": "markdown",
   "metadata": {},
   "source": [
    "For the sad path, we simply end the workflow using a `Fail` state. See [Fail](https://aws-step-functions-data-science-sdk.readthedocs.io/en/latest/states.html#stepfunctions.steps.states.Fail) in the AWS Step Functions Data Science SDK documentation."
   ]
  },
  {
   "cell_type": "code",
   "execution_count": 53,
   "metadata": {},
   "outputs": [],
   "source": [
    "sad_state = Fail(\"HelloWorldFailed\")"
   ]
  },
  {
   "cell_type": "markdown",
   "metadata": {},
   "source": [
    "### Choice state\n",
    "\n",
    "Now, attach branches to the Choice state you created earlier. See *Choice Rules* in the [AWS Step Functions Data Science SDK documentation](https://aws-step-functions-data-science-sdk.readthedocs.io) ."
   ]
  },
  {
   "cell_type": "code",
   "execution_count": 54,
   "metadata": {},
   "outputs": [],
   "source": [
    "choice_state.add_choice(\n",
    "    rule=ChoiceRule.BooleanEquals(\n",
    "        variable=start_pass_state.output()[\"IsHelloWorldExample\"], value=True\n",
    "    ),\n",
    "    next_step=happy_path,\n",
    ")\n",
    "choice_state.add_choice(\n",
    "    ChoiceRule.BooleanEquals(\n",
    "        variable=start_pass_state.output()[\"IsHelloWorldExample\"], value=False\n",
    "    ),\n",
    "    next_step=sad_state,\n",
    ")"
   ]
  },
  {
   "cell_type": "markdown",
   "metadata": {},
   "source": [
    "## Chain together two steps\n",
    "\n",
    "In the next cell, you will chain the start_pass_state with the choice_state and define the workflow."
   ]
  },
  {
   "cell_type": "code",
   "execution_count": 55,
   "metadata": {},
   "outputs": [],
   "source": [
    "# First we chain the start pass state and the choice state\n",
    "branching_workflow_definition = Chain([start_pass_state, choice_state])\n",
    "\n",
    "# Next, we define the workflow\n",
    "branching_workflow = Workflow(\n",
    "    name=\"MyWorkflow_v3\", definition=branching_workflow_definition, role=workflow_execution_role\n",
    ")"
   ]
  },
  {
   "cell_type": "code",
   "execution_count": 56,
   "metadata": {
    "scrolled": true
   },
   "outputs": [
    {
     "name": "stdout",
     "output_type": "stream",
     "text": [
      "{\n",
      "    \"StartAt\": \"MyPassState\",\n",
      "    \"States\": {\n",
      "        \"MyPassState\": {\n",
      "            \"Type\": \"Pass\",\n",
      "            \"Next\": \"Is this Hello World example?\"\n",
      "        },\n",
      "        \"Is this Hello World example?\": {\n",
      "            \"Type\": \"Choice\",\n",
      "            \"Choices\": [\n",
      "                {\n",
      "                    \"Variable\": \"$['IsHelloWorldExample']\",\n",
      "                    \"BooleanEquals\": true,\n",
      "                    \"Next\": \"Wait for 3 seconds\"\n",
      "                },\n",
      "                {\n",
      "                    \"Variable\": \"$['IsHelloWorldExample']\",\n",
      "                    \"BooleanEquals\": false,\n",
      "                    \"Next\": \"HelloWorldFailed\"\n",
      "                }\n",
      "            ]\n",
      "        },\n",
      "        \"Wait for 3 seconds\": {\n",
      "            \"Seconds\": 3,\n",
      "            \"Type\": \"Wait\",\n",
      "            \"Next\": \"MyParallelState\"\n",
      "        },\n",
      "        \"MyParallelState\": {\n",
      "            \"Type\": \"Parallel\",\n",
      "            \"Next\": \"Convert HelloWorld to Base64\",\n",
      "            \"Branches\": [\n",
      "                {\n",
      "                    \"StartAt\": \"Hello\",\n",
      "                    \"States\": {\n",
      "                        \"Hello\": {\n",
      "                            \"Type\": \"Pass\",\n",
      "                            \"End\": true\n",
      "                        }\n",
      "                    }\n",
      "                },\n",
      "                {\n",
      "                    \"StartAt\": \"World\",\n",
      "                    \"States\": {\n",
      "                        \"World\": {\n",
      "                            \"Type\": \"Pass\",\n",
      "                            \"End\": true\n",
      "                        }\n",
      "                    }\n",
      "                }\n",
      "            ]\n",
      "        },\n",
      "        \"Convert HelloWorld to Base64\": {\n",
      "            \"Parameters\": {\n",
      "                \"FunctionName\": \"step_function_lambda\",\n",
      "                \"Payload\": {\n",
      "                    \"input\": \"HelloWorld\"\n",
      "                }\n",
      "            },\n",
      "            \"Resource\": \"arn:aws:states:::lambda:invoke\",\n",
      "            \"Type\": \"Task\",\n",
      "            \"Next\": \"HelloWorldSuccessful\",\n",
      "            \"Retry\": [\n",
      "                {\n",
      "                    \"ErrorEquals\": [\n",
      "                        \"States.TaskFailed\"\n",
      "                    ],\n",
      "                    \"IntervalSeconds\": 15,\n",
      "                    \"MaxAttempts\": 2,\n",
      "                    \"BackoffRate\": 4.0\n",
      "                }\n",
      "            ],\n",
      "            \"Catch\": [\n",
      "                {\n",
      "                    \"ErrorEquals\": [\n",
      "                        \"States.TaskFailed\"\n",
      "                    ],\n",
      "                    \"Next\": \"LambdaTaskFailed\"\n",
      "                }\n",
      "            ]\n",
      "        },\n",
      "        \"HelloWorldSuccessful\": {\n",
      "            \"Type\": \"Succeed\"\n",
      "        },\n",
      "        \"LambdaTaskFailed\": {\n",
      "            \"Type\": \"Fail\"\n",
      "        },\n",
      "        \"HelloWorldFailed\": {\n",
      "            \"Type\": \"Fail\"\n",
      "        }\n",
      "    }\n",
      "}\n"
     ]
    }
   ],
   "source": [
    "# Review the Amazon States Language code for your workflow\n",
    "print(branching_workflow.definition.to_json(pretty=True))"
   ]
  },
  {
   "cell_type": "markdown",
   "metadata": {},
   "source": [
    "## Review a visualization for your workflow\n",
    "\n",
    "The following cell generates a graphical representation of your workflow."
   ]
  },
  {
   "cell_type": "code",
   "execution_count": 57,
   "metadata": {},
   "outputs": [
    {
     "data": {
      "text/html": [
       "\n",
       "<link rel=\"stylesheet\" type=\"text/css\" href=\"https://do0of8uwbahzz.cloudfront.net/graph.css\">\n",
       "<div id=\"graph-32\" class=\"workflowgraph\">\n",
       "    \n",
       "    <svg></svg>\n",
       "    \n",
       "</div>\n",
       "\n",
       "<script type=\"text/javascript\">\n",
       "\n",
       "require.config({\n",
       "    paths: {\n",
       "        sfn: \"https://do0of8uwbahzz.cloudfront.net/sfn\",\n",
       "    }\n",
       "});\n",
       "\n",
       "require(['sfn'], function(sfn) {\n",
       "    var element = document.getElementById('graph-32')\n",
       "\n",
       "    var options = {\n",
       "        width: parseFloat(getComputedStyle(element, null).width.replace(\"px\", \"\")),\n",
       "        height: 600,\n",
       "        layout: 'LR',\n",
       "        resizeHeight: true\n",
       "    };\n",
       "\n",
       "    var definition = {\"StartAt\": \"MyPassState\", \"States\": {\"MyPassState\": {\"Type\": \"Pass\", \"Next\": \"Is this Hello World example?\"}, \"Is this Hello World example?\": {\"Type\": \"Choice\", \"Choices\": [{\"Variable\": \"$['IsHelloWorldExample']\", \"BooleanEquals\": true, \"Next\": \"Wait for 3 seconds\"}, {\"Variable\": \"$['IsHelloWorldExample']\", \"BooleanEquals\": false, \"Next\": \"HelloWorldFailed\"}]}, \"Wait for 3 seconds\": {\"Seconds\": 3, \"Type\": \"Wait\", \"Next\": \"MyParallelState\"}, \"MyParallelState\": {\"Type\": \"Parallel\", \"Next\": \"Convert HelloWorld to Base64\", \"Branches\": [{\"StartAt\": \"Hello\", \"States\": {\"Hello\": {\"Type\": \"Pass\", \"End\": true}}}, {\"StartAt\": \"World\", \"States\": {\"World\": {\"Type\": \"Pass\", \"End\": true}}}]}, \"Convert HelloWorld to Base64\": {\"Parameters\": {\"FunctionName\": \"step_function_lambda\", \"Payload\": {\"input\": \"HelloWorld\"}}, \"Resource\": \"arn:aws:states:::lambda:invoke\", \"Type\": \"Task\", \"Next\": \"HelloWorldSuccessful\", \"Retry\": [{\"ErrorEquals\": [\"States.TaskFailed\"], \"IntervalSeconds\": 15, \"MaxAttempts\": 2, \"BackoffRate\": 4.0}], \"Catch\": [{\"ErrorEquals\": [\"States.TaskFailed\"], \"Next\": \"LambdaTaskFailed\"}]}, \"HelloWorldSuccessful\": {\"Type\": \"Succeed\"}, \"LambdaTaskFailed\": {\"Type\": \"Fail\"}, \"HelloWorldFailed\": {\"Type\": \"Fail\"}}};\n",
       "    var elementId = '#graph-32';\n",
       "\n",
       "    var graph = new sfn.StateMachineGraph(definition, elementId, options);\n",
       "    graph.render();\n",
       "});\n",
       "\n",
       "</script>\n"
      ],
      "text/plain": [
       "<IPython.core.display.HTML object>"
      ]
     },
     "execution_count": 57,
     "metadata": {},
     "output_type": "execute_result"
    }
   ],
   "source": [
    "branching_workflow.render_graph(portrait=False)"
   ]
  },
  {
   "cell_type": "markdown",
   "metadata": {},
   "source": [
    "## Create the workflow and execute\n",
    "\n",
    "In the next cells, we will create the branching happy workflow in AWS Step Functions with [create](https://aws-step-functions-data-science-sdk.readthedocs.io/en/latest/workflow.html#stepfunctions.workflow.Workflow.create) and execute it with [execute](https://aws-step-functions-data-science-sdk.readthedocs.io/en/latest/workflow.html#stepfunctions.workflow.Workflow.execute).\n",
    "\n",
    "Since IsHelloWorldExample is set to True, your execution should follow the happy path."
   ]
  },
  {
   "cell_type": "code",
   "execution_count": 58,
   "metadata": {},
   "outputs": [
    {
     "name": "stdout",
     "output_type": "stream",
     "text": [
      "\u001b[32m[INFO] Workflow created successfully on AWS Step Functions.\u001b[0m\n"
     ]
    },
    {
     "data": {
      "text/plain": [
       "'arn:aws:states:us-east-1:456668253361:stateMachine:MyWorkflow_v3'"
      ]
     },
     "execution_count": 58,
     "metadata": {},
     "output_type": "execute_result"
    }
   ],
   "source": [
    "branching_workflow.create()"
   ]
  },
  {
   "cell_type": "code",
   "execution_count": 59,
   "metadata": {},
   "outputs": [
    {
     "name": "stdout",
     "output_type": "stream",
     "text": [
      "\u001b[32m[INFO] Workflow execution started successfully on AWS Step Functions.\u001b[0m\n"
     ]
    }
   ],
   "source": [
    "branching_workflow_execution = branching_workflow.execute(inputs={\"IsHelloWorldExample\": True})"
   ]
  },
  {
   "cell_type": "markdown",
   "metadata": {},
   "source": [
    "## Review the progress\n",
    "\n",
    "Review the workflow progress with the [render_progress](https://aws-step-functions-data-science-sdk.readthedocs.io/en/latest/workflow.html#stepfunctions.workflow.Execution.render_progress).\n",
    "\n",
    "Review the execution history by calling [list_events](https://aws-step-functions-data-science-sdk.readthedocs.io/en/latest/workflow.html#stepfunctions.workflow.Execution.list_events) to list all events in the workflow execution."
   ]
  },
  {
   "cell_type": "code",
   "execution_count": 60,
   "metadata": {},
   "outputs": [
    {
     "data": {
      "text/html": [
       "\n",
       "<link rel=\"stylesheet\" type=\"text/css\" href=\"https://do0of8uwbahzz.cloudfront.net/graph.css\">\n",
       "<div id=\"graph-798\" class=\"workflowgraph\">\n",
       "    \n",
       "    <style>\n",
       "        .graph-legend ul {\n",
       "            list-style-type: none;\n",
       "            padding: 10px;\n",
       "            padding-left: 0;\n",
       "            margin: 0;\n",
       "            position: absolute;\n",
       "            top: 0;\n",
       "            background: transparent;\n",
       "        }\n",
       "\n",
       "        .graph-legend li {\n",
       "            margin-left: 10px;\n",
       "            display: inline-block;\n",
       "        }\n",
       "\n",
       "        .graph-legend li > div {\n",
       "            width: 10px;\n",
       "            height: 10px;\n",
       "            display: inline-block;\n",
       "        }\n",
       "\n",
       "        .graph-legend .success { background-color: #2BD62E }\n",
       "        .graph-legend .failed { background-color: #DE322F }\n",
       "        .graph-legend .cancelled { background-color: #DDDDDD }\n",
       "        .graph-legend .in-progress { background-color: #53C9ED }\n",
       "        .graph-legend .caught-error { background-color: #FFA500 }\n",
       "    </style>\n",
       "    <div class=\"graph-legend\">\n",
       "        <ul>\n",
       "            <li>\n",
       "                <div class=\"success\"></div>\n",
       "                <span>Success</span>\n",
       "            </li>\n",
       "            <li>\n",
       "                <div class=\"failed\"></div>\n",
       "                <span>Failed</span>\n",
       "            </li>\n",
       "            <li>\n",
       "                <div class=\"cancelled\"></div>\n",
       "                <span>Cancelled</span>\n",
       "            </li>\n",
       "            <li>\n",
       "                <div class=\"in-progress\"></div>\n",
       "                <span>In Progress</span>\n",
       "            </li>\n",
       "            <li>\n",
       "                <div class=\"caught-error\"></div>\n",
       "                <span>Caught Error</span>\n",
       "            </li>\n",
       "        </ul>\n",
       "    </div>\n",
       "\n",
       "    <svg></svg>\n",
       "    <a href=\"https://console.aws.amazon.com/states/home?region=us-east-1#/executions/details/arn:aws:states:us-east-1:456668253361:execution:MyWorkflow_v3:59fdede4-c301-4f4f-8dea-5501d3c50a41\" target=\"_blank\"> Inspect in AWS Step Functions </a>\n",
       "</div>\n",
       "\n",
       "<script type=\"text/javascript\">\n",
       "\n",
       "require.config({\n",
       "    paths: {\n",
       "        sfn: \"https://do0of8uwbahzz.cloudfront.net/sfn\",\n",
       "    }\n",
       "});\n",
       "\n",
       "require(['sfn'], function(sfn) {\n",
       "    var element = document.getElementById('graph-798')\n",
       "\n",
       "    var options = {\n",
       "        width: parseFloat(getComputedStyle(element, null).width.replace(\"px\", \"\")),\n",
       "        height: 1000,\n",
       "        layout: 'LR',\n",
       "        resizeHeight: true\n",
       "    };\n",
       "\n",
       "    var definition = {\"StartAt\": \"MyPassState\", \"States\": {\"MyPassState\": {\"Type\": \"Pass\", \"Next\": \"Is this Hello World example?\"}, \"Is this Hello World example?\": {\"Type\": \"Choice\", \"Choices\": [{\"Variable\": \"$['IsHelloWorldExample']\", \"BooleanEquals\": true, \"Next\": \"Wait for 3 seconds\"}, {\"Variable\": \"$['IsHelloWorldExample']\", \"BooleanEquals\": false, \"Next\": \"HelloWorldFailed\"}]}, \"Wait for 3 seconds\": {\"Seconds\": 3, \"Type\": \"Wait\", \"Next\": \"MyParallelState\"}, \"MyParallelState\": {\"Type\": \"Parallel\", \"Next\": \"Convert HelloWorld to Base64\", \"Branches\": [{\"StartAt\": \"Hello\", \"States\": {\"Hello\": {\"Type\": \"Pass\", \"End\": true}}}, {\"StartAt\": \"World\", \"States\": {\"World\": {\"Type\": \"Pass\", \"End\": true}}}]}, \"Convert HelloWorld to Base64\": {\"Parameters\": {\"FunctionName\": \"step_function_lambda\", \"Payload\": {\"input\": \"HelloWorld\"}}, \"Resource\": \"arn:aws:states:::lambda:invoke\", \"Type\": \"Task\", \"Next\": \"HelloWorldSuccessful\", \"Retry\": [{\"ErrorEquals\": [\"States.TaskFailed\"], \"IntervalSeconds\": 15, \"MaxAttempts\": 2, \"BackoffRate\": 4.0}], \"Catch\": [{\"ErrorEquals\": [\"States.TaskFailed\"], \"Next\": \"LambdaTaskFailed\"}]}, \"HelloWorldSuccessful\": {\"Type\": \"Succeed\"}, \"LambdaTaskFailed\": {\"Type\": \"Fail\"}, \"HelloWorldFailed\": {\"Type\": \"Fail\"}}};\n",
       "    var elementId = '#graph-798';\n",
       "    var events = { 'events': [{\"timestamp\": 1662367992.591, \"type\": \"ExecutionStarted\", \"id\": 1, \"previousEventId\": 0, \"executionStartedEventDetails\": {\"input\": \"{\\n    \\\"IsHelloWorldExample\\\": true\\n}\", \"inputDetails\": {\"truncated\": false}, \"roleArn\": \"arn:aws:iam::456668253361:role/AmazonSageMaker-StepFunctionsWorkflowExecutionRole\"}}, {\"timestamp\": 1662367992.653, \"type\": \"PassStateEntered\", \"id\": 2, \"previousEventId\": 0, \"stateEnteredEventDetails\": {\"name\": \"MyPassState\", \"input\": \"{\\n    \\\"IsHelloWorldExample\\\": true\\n}\", \"inputDetails\": {\"truncated\": false}}}, {\"timestamp\": 1662367992.653, \"type\": \"PassStateExited\", \"id\": 3, \"previousEventId\": 2, \"stateExitedEventDetails\": {\"name\": \"MyPassState\", \"output\": \"{\\n    \\\"IsHelloWorldExample\\\": true\\n}\", \"outputDetails\": {\"truncated\": false}}}, {\"timestamp\": 1662367992.753, \"type\": \"ChoiceStateEntered\", \"id\": 4, \"previousEventId\": 3, \"stateEnteredEventDetails\": {\"name\": \"Is this Hello World example?\", \"input\": \"{\\n    \\\"IsHelloWorldExample\\\": true\\n}\", \"inputDetails\": {\"truncated\": false}}}, {\"timestamp\": 1662367992.753, \"type\": \"ChoiceStateExited\", \"id\": 5, \"previousEventId\": 4, \"stateExitedEventDetails\": {\"name\": \"Is this Hello World example?\", \"output\": \"{\\n    \\\"IsHelloWorldExample\\\": true\\n}\", \"outputDetails\": {\"truncated\": false}}}, {\"timestamp\": 1662367992.853, \"type\": \"WaitStateEntered\", \"id\": 6, \"previousEventId\": 5, \"stateEnteredEventDetails\": {\"name\": \"Wait for 3 seconds\", \"input\": \"{\\n    \\\"IsHelloWorldExample\\\": true\\n}\", \"inputDetails\": {\"truncated\": false}}}, {\"timestamp\": 1662367995.853, \"type\": \"WaitStateExited\", \"id\": 7, \"previousEventId\": 6, \"stateExitedEventDetails\": {\"name\": \"Wait for 3 seconds\", \"output\": \"{\\n    \\\"IsHelloWorldExample\\\": true\\n}\", \"outputDetails\": {\"truncated\": false}}}, {\"timestamp\": 1662367995.861, \"type\": \"ParallelStateEntered\", \"id\": 8, \"previousEventId\": 7, \"stateEnteredEventDetails\": {\"name\": \"MyParallelState\", \"input\": \"{\\n    \\\"IsHelloWorldExample\\\": true\\n}\", \"inputDetails\": {\"truncated\": false}}}, {\"timestamp\": 1662367995.861, \"type\": \"ParallelStateStarted\", \"id\": 9, \"previousEventId\": 8}, {\"timestamp\": 1662367995.962, \"type\": \"PassStateEntered\", \"id\": 10, \"previousEventId\": 9, \"stateEnteredEventDetails\": {\"name\": \"Hello\", \"input\": \"{\\n    \\\"IsHelloWorldExample\\\": true\\n}\", \"inputDetails\": {\"truncated\": false}}}, {\"timestamp\": 1662367995.962, \"type\": \"PassStateExited\", \"id\": 11, \"previousEventId\": 10, \"stateExitedEventDetails\": {\"name\": \"Hello\", \"output\": \"{\\n    \\\"IsHelloWorldExample\\\": true\\n}\", \"outputDetails\": {\"truncated\": false}}}, {\"timestamp\": 1662367995.97, \"type\": \"PassStateEntered\", \"id\": 12, \"previousEventId\": 9, \"stateEnteredEventDetails\": {\"name\": \"World\", \"input\": \"{\\n    \\\"IsHelloWorldExample\\\": true\\n}\", \"inputDetails\": {\"truncated\": false}}}, {\"timestamp\": 1662367995.97, \"type\": \"PassStateExited\", \"id\": 13, \"previousEventId\": 12, \"stateExitedEventDetails\": {\"name\": \"World\", \"output\": \"{\\n    \\\"IsHelloWorldExample\\\": true\\n}\", \"outputDetails\": {\"truncated\": false}}}, {\"timestamp\": 1662367995.97, \"type\": \"ParallelStateSucceeded\", \"id\": 14, \"previousEventId\": 13}, {\"timestamp\": 1662367995.97, \"type\": \"ParallelStateExited\", \"id\": 15, \"previousEventId\": 13, \"stateExitedEventDetails\": {\"name\": \"MyParallelState\", \"output\": \"[{\\n    \\\"IsHelloWorldExample\\\": true\\n},{\\n    \\\"IsHelloWorldExample\\\": true\\n}]\", \"outputDetails\": {\"truncated\": false}}}, {\"timestamp\": 1662367995.982, \"type\": \"TaskStateEntered\", \"id\": 16, \"previousEventId\": 15, \"stateEnteredEventDetails\": {\"name\": \"Convert HelloWorld to Base64\", \"input\": \"[{\\n    \\\"IsHelloWorldExample\\\": true\\n},{\\n    \\\"IsHelloWorldExample\\\": true\\n}]\", \"inputDetails\": {\"truncated\": false}}}, {\"timestamp\": 1662367995.982, \"type\": \"TaskScheduled\", \"id\": 17, \"previousEventId\": 16, \"taskScheduledEventDetails\": {\"resourceType\": \"lambda\", \"resource\": \"invoke\", \"region\": \"us-east-1\", \"parameters\": \"{\\\"FunctionName\\\":\\\"step_function_lambda\\\",\\\"Payload\\\":{\\\"input\\\":\\\"HelloWorld\\\"}}\"}}, {\"timestamp\": 1662367996.019, \"type\": \"TaskStarted\", \"id\": 18, \"previousEventId\": 17, \"taskStartedEventDetails\": {\"resourceType\": \"lambda\", \"resource\": \"invoke\"}}, {\"timestamp\": 1662367996.317, \"type\": \"TaskSucceeded\", \"id\": 19, \"previousEventId\": 18, \"taskSucceededEventDetails\": {\"resourceType\": \"lambda\", \"resource\": \"invoke\", \"output\": \"{\\\"ExecutedVersion\\\":\\\"$LATEST\\\",\\\"Payload\\\":{\\\"statusCode\\\":200,\\\"input\\\":\\\"HelloWorld\\\",\\\"output\\\":\\\"SGVsbG9Xb3JsZA==\\\"},\\\"SdkHttpMetadata\\\":{\\\"AllHttpHeaders\\\":{\\\"X-Amz-Executed-Version\\\":[\\\"$LATEST\\\"],\\\"x-amzn-Remapped-Content-Length\\\":[\\\"0\\\"],\\\"Connection\\\":[\\\"keep-alive\\\"],\\\"x-amzn-RequestId\\\":[\\\"5aa2089f-7ccb-4f6e-b859-d272c3ae723f\\\"],\\\"Content-Length\\\":[\\\"72\\\"],\\\"Date\\\":[\\\"Mon, 05 Sep 2022 08:53:16 GMT\\\"],\\\"X-Amzn-Trace-Id\\\":[\\\"root=1-6315b8fc-5e09a6d359842cfa7c7e5729;sampled=0\\\"],\\\"Content-Type\\\":[\\\"application/json\\\"]},\\\"HttpHeaders\\\":{\\\"Connection\\\":\\\"keep-alive\\\",\\\"Content-Length\\\":\\\"72\\\",\\\"Content-Type\\\":\\\"application/json\\\",\\\"Date\\\":\\\"Mon, 05 Sep 2022 08:53:16 GMT\\\",\\\"X-Amz-Executed-Version\\\":\\\"$LATEST\\\",\\\"x-amzn-Remapped-Content-Length\\\":\\\"0\\\",\\\"x-amzn-RequestId\\\":\\\"5aa2089f-7ccb-4f6e-b859-d272c3ae723f\\\",\\\"X-Amzn-Trace-Id\\\":\\\"root=1-6315b8fc-5e09a6d359842cfa7c7e5729;sampled=0\\\"},\\\"HttpStatusCode\\\":200},\\\"SdkResponseMetadata\\\":{\\\"RequestId\\\":\\\"5aa2089f-7ccb-4f6e-b859-d272c3ae723f\\\"},\\\"StatusCode\\\":200}\", \"outputDetails\": {\"truncated\": false}}}, {\"timestamp\": 1662367996.317, \"type\": \"TaskStateExited\", \"id\": 20, \"previousEventId\": 19, \"stateExitedEventDetails\": {\"name\": \"Convert HelloWorld to Base64\", \"output\": \"{\\\"ExecutedVersion\\\":\\\"$LATEST\\\",\\\"Payload\\\":{\\\"statusCode\\\":200,\\\"input\\\":\\\"HelloWorld\\\",\\\"output\\\":\\\"SGVsbG9Xb3JsZA==\\\"},\\\"SdkHttpMetadata\\\":{\\\"AllHttpHeaders\\\":{\\\"X-Amz-Executed-Version\\\":[\\\"$LATEST\\\"],\\\"x-amzn-Remapped-Content-Length\\\":[\\\"0\\\"],\\\"Connection\\\":[\\\"keep-alive\\\"],\\\"x-amzn-RequestId\\\":[\\\"5aa2089f-7ccb-4f6e-b859-d272c3ae723f\\\"],\\\"Content-Length\\\":[\\\"72\\\"],\\\"Date\\\":[\\\"Mon, 05 Sep 2022 08:53:16 GMT\\\"],\\\"X-Amzn-Trace-Id\\\":[\\\"root=1-6315b8fc-5e09a6d359842cfa7c7e5729;sampled=0\\\"],\\\"Content-Type\\\":[\\\"application/json\\\"]},\\\"HttpHeaders\\\":{\\\"Connection\\\":\\\"keep-alive\\\",\\\"Content-Length\\\":\\\"72\\\",\\\"Content-Type\\\":\\\"application/json\\\",\\\"Date\\\":\\\"Mon, 05 Sep 2022 08:53:16 GMT\\\",\\\"X-Amz-Executed-Version\\\":\\\"$LATEST\\\",\\\"x-amzn-Remapped-Content-Length\\\":\\\"0\\\",\\\"x-amzn-RequestId\\\":\\\"5aa2089f-7ccb-4f6e-b859-d272c3ae723f\\\",\\\"X-Amzn-Trace-Id\\\":\\\"root=1-6315b8fc-5e09a6d359842cfa7c7e5729;sampled=0\\\"},\\\"HttpStatusCode\\\":200},\\\"SdkResponseMetadata\\\":{\\\"RequestId\\\":\\\"5aa2089f-7ccb-4f6e-b859-d272c3ae723f\\\"},\\\"StatusCode\\\":200}\", \"outputDetails\": {\"truncated\": false}}}, {\"timestamp\": 1662367996.325, \"type\": \"SucceedStateEntered\", \"id\": 21, \"previousEventId\": 20, \"stateEnteredEventDetails\": {\"name\": \"HelloWorldSuccessful\", \"input\": \"{\\\"ExecutedVersion\\\":\\\"$LATEST\\\",\\\"Payload\\\":{\\\"statusCode\\\":200,\\\"input\\\":\\\"HelloWorld\\\",\\\"output\\\":\\\"SGVsbG9Xb3JsZA==\\\"},\\\"SdkHttpMetadata\\\":{\\\"AllHttpHeaders\\\":{\\\"X-Amz-Executed-Version\\\":[\\\"$LATEST\\\"],\\\"x-amzn-Remapped-Content-Length\\\":[\\\"0\\\"],\\\"Connection\\\":[\\\"keep-alive\\\"],\\\"x-amzn-RequestId\\\":[\\\"5aa2089f-7ccb-4f6e-b859-d272c3ae723f\\\"],\\\"Content-Length\\\":[\\\"72\\\"],\\\"Date\\\":[\\\"Mon, 05 Sep 2022 08:53:16 GMT\\\"],\\\"X-Amzn-Trace-Id\\\":[\\\"root=1-6315b8fc-5e09a6d359842cfa7c7e5729;sampled=0\\\"],\\\"Content-Type\\\":[\\\"application/json\\\"]},\\\"HttpHeaders\\\":{\\\"Connection\\\":\\\"keep-alive\\\",\\\"Content-Length\\\":\\\"72\\\",\\\"Content-Type\\\":\\\"application/json\\\",\\\"Date\\\":\\\"Mon, 05 Sep 2022 08:53:16 GMT\\\",\\\"X-Amz-Executed-Version\\\":\\\"$LATEST\\\",\\\"x-amzn-Remapped-Content-Length\\\":\\\"0\\\",\\\"x-amzn-RequestId\\\":\\\"5aa2089f-7ccb-4f6e-b859-d272c3ae723f\\\",\\\"X-Amzn-Trace-Id\\\":\\\"root=1-6315b8fc-5e09a6d359842cfa7c7e5729;sampled=0\\\"},\\\"HttpStatusCode\\\":200},\\\"SdkResponseMetadata\\\":{\\\"RequestId\\\":\\\"5aa2089f-7ccb-4f6e-b859-d272c3ae723f\\\"},\\\"StatusCode\\\":200}\", \"inputDetails\": {\"truncated\": false}}}, {\"timestamp\": 1662367996.325, \"type\": \"SucceedStateExited\", \"id\": 22, \"previousEventId\": 21, \"stateExitedEventDetails\": {\"name\": \"HelloWorldSuccessful\", \"output\": \"{\\\"ExecutedVersion\\\":\\\"$LATEST\\\",\\\"Payload\\\":{\\\"statusCode\\\":200,\\\"input\\\":\\\"HelloWorld\\\",\\\"output\\\":\\\"SGVsbG9Xb3JsZA==\\\"},\\\"SdkHttpMetadata\\\":{\\\"AllHttpHeaders\\\":{\\\"X-Amz-Executed-Version\\\":[\\\"$LATEST\\\"],\\\"x-amzn-Remapped-Content-Length\\\":[\\\"0\\\"],\\\"Connection\\\":[\\\"keep-alive\\\"],\\\"x-amzn-RequestId\\\":[\\\"5aa2089f-7ccb-4f6e-b859-d272c3ae723f\\\"],\\\"Content-Length\\\":[\\\"72\\\"],\\\"Date\\\":[\\\"Mon, 05 Sep 2022 08:53:16 GMT\\\"],\\\"X-Amzn-Trace-Id\\\":[\\\"root=1-6315b8fc-5e09a6d359842cfa7c7e5729;sampled=0\\\"],\\\"Content-Type\\\":[\\\"application/json\\\"]},\\\"HttpHeaders\\\":{\\\"Connection\\\":\\\"keep-alive\\\",\\\"Content-Length\\\":\\\"72\\\",\\\"Content-Type\\\":\\\"application/json\\\",\\\"Date\\\":\\\"Mon, 05 Sep 2022 08:53:16 GMT\\\",\\\"X-Amz-Executed-Version\\\":\\\"$LATEST\\\",\\\"x-amzn-Remapped-Content-Length\\\":\\\"0\\\",\\\"x-amzn-RequestId\\\":\\\"5aa2089f-7ccb-4f6e-b859-d272c3ae723f\\\",\\\"X-Amzn-Trace-Id\\\":\\\"root=1-6315b8fc-5e09a6d359842cfa7c7e5729;sampled=0\\\"},\\\"HttpStatusCode\\\":200},\\\"SdkResponseMetadata\\\":{\\\"RequestId\\\":\\\"5aa2089f-7ccb-4f6e-b859-d272c3ae723f\\\"},\\\"StatusCode\\\":200}\", \"outputDetails\": {\"truncated\": false}}}, {\"timestamp\": 1662367996.325, \"type\": \"ExecutionSucceeded\", \"id\": 23, \"previousEventId\": 22, \"executionSucceededEventDetails\": {\"output\": \"{\\\"ExecutedVersion\\\":\\\"$LATEST\\\",\\\"Payload\\\":{\\\"statusCode\\\":200,\\\"input\\\":\\\"HelloWorld\\\",\\\"output\\\":\\\"SGVsbG9Xb3JsZA==\\\"},\\\"SdkHttpMetadata\\\":{\\\"AllHttpHeaders\\\":{\\\"X-Amz-Executed-Version\\\":[\\\"$LATEST\\\"],\\\"x-amzn-Remapped-Content-Length\\\":[\\\"0\\\"],\\\"Connection\\\":[\\\"keep-alive\\\"],\\\"x-amzn-RequestId\\\":[\\\"5aa2089f-7ccb-4f6e-b859-d272c3ae723f\\\"],\\\"Content-Length\\\":[\\\"72\\\"],\\\"Date\\\":[\\\"Mon, 05 Sep 2022 08:53:16 GMT\\\"],\\\"X-Amzn-Trace-Id\\\":[\\\"root=1-6315b8fc-5e09a6d359842cfa7c7e5729;sampled=0\\\"],\\\"Content-Type\\\":[\\\"application/json\\\"]},\\\"HttpHeaders\\\":{\\\"Connection\\\":\\\"keep-alive\\\",\\\"Content-Length\\\":\\\"72\\\",\\\"Content-Type\\\":\\\"application/json\\\",\\\"Date\\\":\\\"Mon, 05 Sep 2022 08:53:16 GMT\\\",\\\"X-Amz-Executed-Version\\\":\\\"$LATEST\\\",\\\"x-amzn-Remapped-Content-Length\\\":\\\"0\\\",\\\"x-amzn-RequestId\\\":\\\"5aa2089f-7ccb-4f6e-b859-d272c3ae723f\\\",\\\"X-Amzn-Trace-Id\\\":\\\"root=1-6315b8fc-5e09a6d359842cfa7c7e5729;sampled=0\\\"},\\\"HttpStatusCode\\\":200},\\\"SdkResponseMetadata\\\":{\\\"RequestId\\\":\\\"5aa2089f-7ccb-4f6e-b859-d272c3ae723f\\\"},\\\"StatusCode\\\":200}\", \"outputDetails\": {\"truncated\": false}}}] };\n",
       "\n",
       "    var graph = new sfn.StateMachineExecutionGraph(definition, events, elementId, options);\n",
       "    graph.render();\n",
       "});\n",
       "\n",
       "</script>\n"
      ],
      "text/plain": [
       "<IPython.core.display.HTML object>"
      ]
     },
     "execution_count": 60,
     "metadata": {},
     "output_type": "execute_result"
    }
   ],
   "source": [
    "branching_workflow_execution.render_progress()"
   ]
  },
  {
   "cell_type": "code",
   "execution_count": 61,
   "metadata": {
    "scrolled": true
   },
   "outputs": [
    {
     "data": {
      "text/plain": [
       "[{'timestamp': datetime.datetime(2022, 9, 5, 15, 53, 12, 591000, tzinfo=tzlocal()),\n",
       "  'type': 'ExecutionStarted',\n",
       "  'id': 1,\n",
       "  'previousEventId': 0,\n",
       "  'executionStartedEventDetails': {'input': '{\\n    \"IsHelloWorldExample\": true\\n}',\n",
       "   'inputDetails': {'truncated': False},\n",
       "   'roleArn': 'arn:aws:iam::456668253361:role/AmazonSageMaker-StepFunctionsWorkflowExecutionRole'}},\n",
       " {'timestamp': datetime.datetime(2022, 9, 5, 15, 53, 12, 653000, tzinfo=tzlocal()),\n",
       "  'type': 'PassStateEntered',\n",
       "  'id': 2,\n",
       "  'previousEventId': 0,\n",
       "  'stateEnteredEventDetails': {'name': 'MyPassState',\n",
       "   'input': '{\\n    \"IsHelloWorldExample\": true\\n}',\n",
       "   'inputDetails': {'truncated': False}}},\n",
       " {'timestamp': datetime.datetime(2022, 9, 5, 15, 53, 12, 653000, tzinfo=tzlocal()),\n",
       "  'type': 'PassStateExited',\n",
       "  'id': 3,\n",
       "  'previousEventId': 2,\n",
       "  'stateExitedEventDetails': {'name': 'MyPassState',\n",
       "   'output': '{\\n    \"IsHelloWorldExample\": true\\n}',\n",
       "   'outputDetails': {'truncated': False}}},\n",
       " {'timestamp': datetime.datetime(2022, 9, 5, 15, 53, 12, 753000, tzinfo=tzlocal()),\n",
       "  'type': 'ChoiceStateEntered',\n",
       "  'id': 4,\n",
       "  'previousEventId': 3,\n",
       "  'stateEnteredEventDetails': {'name': 'Is this Hello World example?',\n",
       "   'input': '{\\n    \"IsHelloWorldExample\": true\\n}',\n",
       "   'inputDetails': {'truncated': False}}},\n",
       " {'timestamp': datetime.datetime(2022, 9, 5, 15, 53, 12, 753000, tzinfo=tzlocal()),\n",
       "  'type': 'ChoiceStateExited',\n",
       "  'id': 5,\n",
       "  'previousEventId': 4,\n",
       "  'stateExitedEventDetails': {'name': 'Is this Hello World example?',\n",
       "   'output': '{\\n    \"IsHelloWorldExample\": true\\n}',\n",
       "   'outputDetails': {'truncated': False}}},\n",
       " {'timestamp': datetime.datetime(2022, 9, 5, 15, 53, 12, 853000, tzinfo=tzlocal()),\n",
       "  'type': 'WaitStateEntered',\n",
       "  'id': 6,\n",
       "  'previousEventId': 5,\n",
       "  'stateEnteredEventDetails': {'name': 'Wait for 3 seconds',\n",
       "   'input': '{\\n    \"IsHelloWorldExample\": true\\n}',\n",
       "   'inputDetails': {'truncated': False}}},\n",
       " {'timestamp': datetime.datetime(2022, 9, 5, 15, 53, 15, 853000, tzinfo=tzlocal()),\n",
       "  'type': 'WaitStateExited',\n",
       "  'id': 7,\n",
       "  'previousEventId': 6,\n",
       "  'stateExitedEventDetails': {'name': 'Wait for 3 seconds',\n",
       "   'output': '{\\n    \"IsHelloWorldExample\": true\\n}',\n",
       "   'outputDetails': {'truncated': False}}},\n",
       " {'timestamp': datetime.datetime(2022, 9, 5, 15, 53, 15, 861000, tzinfo=tzlocal()),\n",
       "  'type': 'ParallelStateEntered',\n",
       "  'id': 8,\n",
       "  'previousEventId': 7,\n",
       "  'stateEnteredEventDetails': {'name': 'MyParallelState',\n",
       "   'input': '{\\n    \"IsHelloWorldExample\": true\\n}',\n",
       "   'inputDetails': {'truncated': False}}},\n",
       " {'timestamp': datetime.datetime(2022, 9, 5, 15, 53, 15, 861000, tzinfo=tzlocal()),\n",
       "  'type': 'ParallelStateStarted',\n",
       "  'id': 9,\n",
       "  'previousEventId': 8},\n",
       " {'timestamp': datetime.datetime(2022, 9, 5, 15, 53, 15, 962000, tzinfo=tzlocal()),\n",
       "  'type': 'PassStateEntered',\n",
       "  'id': 10,\n",
       "  'previousEventId': 9,\n",
       "  'stateEnteredEventDetails': {'name': 'Hello',\n",
       "   'input': '{\\n    \"IsHelloWorldExample\": true\\n}',\n",
       "   'inputDetails': {'truncated': False}}},\n",
       " {'timestamp': datetime.datetime(2022, 9, 5, 15, 53, 15, 962000, tzinfo=tzlocal()),\n",
       "  'type': 'PassStateExited',\n",
       "  'id': 11,\n",
       "  'previousEventId': 10,\n",
       "  'stateExitedEventDetails': {'name': 'Hello',\n",
       "   'output': '{\\n    \"IsHelloWorldExample\": true\\n}',\n",
       "   'outputDetails': {'truncated': False}}},\n",
       " {'timestamp': datetime.datetime(2022, 9, 5, 15, 53, 15, 970000, tzinfo=tzlocal()),\n",
       "  'type': 'PassStateEntered',\n",
       "  'id': 12,\n",
       "  'previousEventId': 9,\n",
       "  'stateEnteredEventDetails': {'name': 'World',\n",
       "   'input': '{\\n    \"IsHelloWorldExample\": true\\n}',\n",
       "   'inputDetails': {'truncated': False}}},\n",
       " {'timestamp': datetime.datetime(2022, 9, 5, 15, 53, 15, 970000, tzinfo=tzlocal()),\n",
       "  'type': 'PassStateExited',\n",
       "  'id': 13,\n",
       "  'previousEventId': 12,\n",
       "  'stateExitedEventDetails': {'name': 'World',\n",
       "   'output': '{\\n    \"IsHelloWorldExample\": true\\n}',\n",
       "   'outputDetails': {'truncated': False}}},\n",
       " {'timestamp': datetime.datetime(2022, 9, 5, 15, 53, 15, 970000, tzinfo=tzlocal()),\n",
       "  'type': 'ParallelStateSucceeded',\n",
       "  'id': 14,\n",
       "  'previousEventId': 13},\n",
       " {'timestamp': datetime.datetime(2022, 9, 5, 15, 53, 15, 970000, tzinfo=tzlocal()),\n",
       "  'type': 'ParallelStateExited',\n",
       "  'id': 15,\n",
       "  'previousEventId': 13,\n",
       "  'stateExitedEventDetails': {'name': 'MyParallelState',\n",
       "   'output': '[{\\n    \"IsHelloWorldExample\": true\\n},{\\n    \"IsHelloWorldExample\": true\\n}]',\n",
       "   'outputDetails': {'truncated': False}}},\n",
       " {'timestamp': datetime.datetime(2022, 9, 5, 15, 53, 15, 982000, tzinfo=tzlocal()),\n",
       "  'type': 'TaskStateEntered',\n",
       "  'id': 16,\n",
       "  'previousEventId': 15,\n",
       "  'stateEnteredEventDetails': {'name': 'Convert HelloWorld to Base64',\n",
       "   'input': '[{\\n    \"IsHelloWorldExample\": true\\n},{\\n    \"IsHelloWorldExample\": true\\n}]',\n",
       "   'inputDetails': {'truncated': False}}},\n",
       " {'timestamp': datetime.datetime(2022, 9, 5, 15, 53, 15, 982000, tzinfo=tzlocal()),\n",
       "  'type': 'TaskScheduled',\n",
       "  'id': 17,\n",
       "  'previousEventId': 16,\n",
       "  'taskScheduledEventDetails': {'resourceType': 'lambda',\n",
       "   'resource': 'invoke',\n",
       "   'region': 'us-east-1',\n",
       "   'parameters': '{\"FunctionName\":\"step_function_lambda\",\"Payload\":{\"input\":\"HelloWorld\"}}'}},\n",
       " {'timestamp': datetime.datetime(2022, 9, 5, 15, 53, 16, 19000, tzinfo=tzlocal()),\n",
       "  'type': 'TaskStarted',\n",
       "  'id': 18,\n",
       "  'previousEventId': 17,\n",
       "  'taskStartedEventDetails': {'resourceType': 'lambda', 'resource': 'invoke'}},\n",
       " {'timestamp': datetime.datetime(2022, 9, 5, 15, 53, 16, 317000, tzinfo=tzlocal()),\n",
       "  'type': 'TaskSucceeded',\n",
       "  'id': 19,\n",
       "  'previousEventId': 18,\n",
       "  'taskSucceededEventDetails': {'resourceType': 'lambda',\n",
       "   'resource': 'invoke',\n",
       "   'output': '{\"ExecutedVersion\":\"$LATEST\",\"Payload\":{\"statusCode\":200,\"input\":\"HelloWorld\",\"output\":\"SGVsbG9Xb3JsZA==\"},\"SdkHttpMetadata\":{\"AllHttpHeaders\":{\"X-Amz-Executed-Version\":[\"$LATEST\"],\"x-amzn-Remapped-Content-Length\":[\"0\"],\"Connection\":[\"keep-alive\"],\"x-amzn-RequestId\":[\"5aa2089f-7ccb-4f6e-b859-d272c3ae723f\"],\"Content-Length\":[\"72\"],\"Date\":[\"Mon, 05 Sep 2022 08:53:16 GMT\"],\"X-Amzn-Trace-Id\":[\"root=1-6315b8fc-5e09a6d359842cfa7c7e5729;sampled=0\"],\"Content-Type\":[\"application/json\"]},\"HttpHeaders\":{\"Connection\":\"keep-alive\",\"Content-Length\":\"72\",\"Content-Type\":\"application/json\",\"Date\":\"Mon, 05 Sep 2022 08:53:16 GMT\",\"X-Amz-Executed-Version\":\"$LATEST\",\"x-amzn-Remapped-Content-Length\":\"0\",\"x-amzn-RequestId\":\"5aa2089f-7ccb-4f6e-b859-d272c3ae723f\",\"X-Amzn-Trace-Id\":\"root=1-6315b8fc-5e09a6d359842cfa7c7e5729;sampled=0\"},\"HttpStatusCode\":200},\"SdkResponseMetadata\":{\"RequestId\":\"5aa2089f-7ccb-4f6e-b859-d272c3ae723f\"},\"StatusCode\":200}',\n",
       "   'outputDetails': {'truncated': False}}},\n",
       " {'timestamp': datetime.datetime(2022, 9, 5, 15, 53, 16, 317000, tzinfo=tzlocal()),\n",
       "  'type': 'TaskStateExited',\n",
       "  'id': 20,\n",
       "  'previousEventId': 19,\n",
       "  'stateExitedEventDetails': {'name': 'Convert HelloWorld to Base64',\n",
       "   'output': '{\"ExecutedVersion\":\"$LATEST\",\"Payload\":{\"statusCode\":200,\"input\":\"HelloWorld\",\"output\":\"SGVsbG9Xb3JsZA==\"},\"SdkHttpMetadata\":{\"AllHttpHeaders\":{\"X-Amz-Executed-Version\":[\"$LATEST\"],\"x-amzn-Remapped-Content-Length\":[\"0\"],\"Connection\":[\"keep-alive\"],\"x-amzn-RequestId\":[\"5aa2089f-7ccb-4f6e-b859-d272c3ae723f\"],\"Content-Length\":[\"72\"],\"Date\":[\"Mon, 05 Sep 2022 08:53:16 GMT\"],\"X-Amzn-Trace-Id\":[\"root=1-6315b8fc-5e09a6d359842cfa7c7e5729;sampled=0\"],\"Content-Type\":[\"application/json\"]},\"HttpHeaders\":{\"Connection\":\"keep-alive\",\"Content-Length\":\"72\",\"Content-Type\":\"application/json\",\"Date\":\"Mon, 05 Sep 2022 08:53:16 GMT\",\"X-Amz-Executed-Version\":\"$LATEST\",\"x-amzn-Remapped-Content-Length\":\"0\",\"x-amzn-RequestId\":\"5aa2089f-7ccb-4f6e-b859-d272c3ae723f\",\"X-Amzn-Trace-Id\":\"root=1-6315b8fc-5e09a6d359842cfa7c7e5729;sampled=0\"},\"HttpStatusCode\":200},\"SdkResponseMetadata\":{\"RequestId\":\"5aa2089f-7ccb-4f6e-b859-d272c3ae723f\"},\"StatusCode\":200}',\n",
       "   'outputDetails': {'truncated': False}}},\n",
       " {'timestamp': datetime.datetime(2022, 9, 5, 15, 53, 16, 325000, tzinfo=tzlocal()),\n",
       "  'type': 'SucceedStateEntered',\n",
       "  'id': 21,\n",
       "  'previousEventId': 20,\n",
       "  'stateEnteredEventDetails': {'name': 'HelloWorldSuccessful',\n",
       "   'input': '{\"ExecutedVersion\":\"$LATEST\",\"Payload\":{\"statusCode\":200,\"input\":\"HelloWorld\",\"output\":\"SGVsbG9Xb3JsZA==\"},\"SdkHttpMetadata\":{\"AllHttpHeaders\":{\"X-Amz-Executed-Version\":[\"$LATEST\"],\"x-amzn-Remapped-Content-Length\":[\"0\"],\"Connection\":[\"keep-alive\"],\"x-amzn-RequestId\":[\"5aa2089f-7ccb-4f6e-b859-d272c3ae723f\"],\"Content-Length\":[\"72\"],\"Date\":[\"Mon, 05 Sep 2022 08:53:16 GMT\"],\"X-Amzn-Trace-Id\":[\"root=1-6315b8fc-5e09a6d359842cfa7c7e5729;sampled=0\"],\"Content-Type\":[\"application/json\"]},\"HttpHeaders\":{\"Connection\":\"keep-alive\",\"Content-Length\":\"72\",\"Content-Type\":\"application/json\",\"Date\":\"Mon, 05 Sep 2022 08:53:16 GMT\",\"X-Amz-Executed-Version\":\"$LATEST\",\"x-amzn-Remapped-Content-Length\":\"0\",\"x-amzn-RequestId\":\"5aa2089f-7ccb-4f6e-b859-d272c3ae723f\",\"X-Amzn-Trace-Id\":\"root=1-6315b8fc-5e09a6d359842cfa7c7e5729;sampled=0\"},\"HttpStatusCode\":200},\"SdkResponseMetadata\":{\"RequestId\":\"5aa2089f-7ccb-4f6e-b859-d272c3ae723f\"},\"StatusCode\":200}',\n",
       "   'inputDetails': {'truncated': False}}},\n",
       " {'timestamp': datetime.datetime(2022, 9, 5, 15, 53, 16, 325000, tzinfo=tzlocal()),\n",
       "  'type': 'SucceedStateExited',\n",
       "  'id': 22,\n",
       "  'previousEventId': 21,\n",
       "  'stateExitedEventDetails': {'name': 'HelloWorldSuccessful',\n",
       "   'output': '{\"ExecutedVersion\":\"$LATEST\",\"Payload\":{\"statusCode\":200,\"input\":\"HelloWorld\",\"output\":\"SGVsbG9Xb3JsZA==\"},\"SdkHttpMetadata\":{\"AllHttpHeaders\":{\"X-Amz-Executed-Version\":[\"$LATEST\"],\"x-amzn-Remapped-Content-Length\":[\"0\"],\"Connection\":[\"keep-alive\"],\"x-amzn-RequestId\":[\"5aa2089f-7ccb-4f6e-b859-d272c3ae723f\"],\"Content-Length\":[\"72\"],\"Date\":[\"Mon, 05 Sep 2022 08:53:16 GMT\"],\"X-Amzn-Trace-Id\":[\"root=1-6315b8fc-5e09a6d359842cfa7c7e5729;sampled=0\"],\"Content-Type\":[\"application/json\"]},\"HttpHeaders\":{\"Connection\":\"keep-alive\",\"Content-Length\":\"72\",\"Content-Type\":\"application/json\",\"Date\":\"Mon, 05 Sep 2022 08:53:16 GMT\",\"X-Amz-Executed-Version\":\"$LATEST\",\"x-amzn-Remapped-Content-Length\":\"0\",\"x-amzn-RequestId\":\"5aa2089f-7ccb-4f6e-b859-d272c3ae723f\",\"X-Amzn-Trace-Id\":\"root=1-6315b8fc-5e09a6d359842cfa7c7e5729;sampled=0\"},\"HttpStatusCode\":200},\"SdkResponseMetadata\":{\"RequestId\":\"5aa2089f-7ccb-4f6e-b859-d272c3ae723f\"},\"StatusCode\":200}',\n",
       "   'outputDetails': {'truncated': False}}},\n",
       " {'timestamp': datetime.datetime(2022, 9, 5, 15, 53, 16, 325000, tzinfo=tzlocal()),\n",
       "  'type': 'ExecutionSucceeded',\n",
       "  'id': 23,\n",
       "  'previousEventId': 22,\n",
       "  'executionSucceededEventDetails': {'output': '{\"ExecutedVersion\":\"$LATEST\",\"Payload\":{\"statusCode\":200,\"input\":\"HelloWorld\",\"output\":\"SGVsbG9Xb3JsZA==\"},\"SdkHttpMetadata\":{\"AllHttpHeaders\":{\"X-Amz-Executed-Version\":[\"$LATEST\"],\"x-amzn-Remapped-Content-Length\":[\"0\"],\"Connection\":[\"keep-alive\"],\"x-amzn-RequestId\":[\"5aa2089f-7ccb-4f6e-b859-d272c3ae723f\"],\"Content-Length\":[\"72\"],\"Date\":[\"Mon, 05 Sep 2022 08:53:16 GMT\"],\"X-Amzn-Trace-Id\":[\"root=1-6315b8fc-5e09a6d359842cfa7c7e5729;sampled=0\"],\"Content-Type\":[\"application/json\"]},\"HttpHeaders\":{\"Connection\":\"keep-alive\",\"Content-Length\":\"72\",\"Content-Type\":\"application/json\",\"Date\":\"Mon, 05 Sep 2022 08:53:16 GMT\",\"X-Amz-Executed-Version\":\"$LATEST\",\"x-amzn-Remapped-Content-Length\":\"0\",\"x-amzn-RequestId\":\"5aa2089f-7ccb-4f6e-b859-d272c3ae723f\",\"X-Amzn-Trace-Id\":\"root=1-6315b8fc-5e09a6d359842cfa7c7e5729;sampled=0\"},\"HttpStatusCode\":200},\"SdkResponseMetadata\":{\"RequestId\":\"5aa2089f-7ccb-4f6e-b859-d272c3ae723f\"},\"StatusCode\":200}',\n",
       "   'outputDetails': {'truncated': False}}}]"
      ]
     },
     "execution_count": 61,
     "metadata": {},
     "output_type": "execute_result"
    }
   ],
   "source": [
    "branching_workflow_execution.list_events(html=False)"
   ]
  },
  {
   "cell_type": "code",
   "execution_count": null,
   "metadata": {},
   "outputs": [],
   "source": []
  }
 ],
 "metadata": {
  "kernelspec": {
   "display_name": "Python 3 (ipykernel)",
   "language": "python",
   "name": "python3"
  },
  "language_info": {
   "codemirror_mode": {
    "name": "ipython",
    "version": 3
   },
   "file_extension": ".py",
   "mimetype": "text/x-python",
   "name": "python",
   "nbconvert_exporter": "python",
   "pygments_lexer": "ipython3",
   "version": "3.9.7"
  }
 },
 "nbformat": 4,
 "nbformat_minor": 4
}
